{
 "cells": [
  {
   "cell_type": "markdown",
   "metadata": {},
   "source": [
    "#### <h2>EBA3400 Exercise Set 1: Introduction to programming</h2>"
   ]
  },
  {
   "cell_type": "markdown",
   "metadata": {},
   "source": [
    "<h3>1.1: How does Jupyter Notebooks work?</h3>\n",
    "\n",
    "- Open up a new notebook\n",
    "- How do you add a new block for writing code?\n",
    "- Write 3+5 and click 'Run'\n",
    "- Add another block, but change the format to 'Markdown'. Write the text \"The answer to 3+5 is 8.\" and hit 'Run'. What happens?\n",
    "- How do you save your notebook?\n",
    "- How do change the name of your notebook?\n",
    "- How do you copy your notebook?"
   ]
  },
  {
   "cell_type": "code",
   "execution_count": 2,
   "metadata": {},
   "outputs": [
    {
     "data": {
      "text/plain": [
       "8"
      ]
     },
     "execution_count": 2,
     "metadata": {},
     "output_type": "execute_result"
    }
   ],
   "source": [
    "3+5"
   ]
  },
  {
   "cell_type": "markdown",
   "metadata": {},
   "source": [
    "\"The answer to 3+5 is 8\""
   ]
  },
  {
   "cell_type": "markdown",
   "metadata": {},
   "source": [
    "<h3>1.2: Secondary Memory</h3>\n",
    "\n",
    "What is the function of the secondary memory in a computer?\n",
    "\n",
    "- a) Execute all of the computation and logic of the program\n",
    "- b) Retrieve web pages over the Internet\n",
    "- c) Store information for the long term, even beyond a power shutdown\n",
    "- d) Take input from the user\n",
    "\n",
    "The answer is \"c\""
   ]
  },
  {
   "cell_type": "markdown",
   "metadata": {},
   "source": [
    "<h3>1.3: Code</h3>\n",
    "    \n",
    "What is wrong with the following code?"
   ]
  },
  {
   "cell_type": "code",
   "execution_count": 2,
   "metadata": {},
   "outputs": [
    {
     "ename": "NameError",
     "evalue": "name 'primt' is not defined",
     "output_type": "error",
     "traceback": [
      "\u001b[1;31m---------------------------------------------------------------------------\u001b[0m",
      "\u001b[1;31mNameError\u001b[0m                                 Traceback (most recent call last)",
      "\u001b[1;32m<ipython-input-2-8be9c4f50e16>\u001b[0m in \u001b[0;36m<module>\u001b[1;34m\u001b[0m\n\u001b[1;32m----> 1\u001b[1;33m \u001b[0mprimt\u001b[0m\u001b[1;33m(\u001b[0m\u001b[1;34m'Hello world!'\u001b[0m\u001b[1;33m)\u001b[0m\u001b[1;33m\u001b[0m\u001b[1;33m\u001b[0m\u001b[0m\n\u001b[0m",
      "\u001b[1;31mNameError\u001b[0m: name 'primt' is not defined"
     ]
    }
   ],
   "source": [
    "primt('Hello world!')"
   ]
  },
  {
   "cell_type": "markdown",
   "metadata": {},
   "source": [
    "Add a new code block below and change the code so that it prints out the desired output."
   ]
  },
  {
   "cell_type": "code",
   "execution_count": 1,
   "metadata": {},
   "outputs": [
    {
     "name": "stdout",
     "output_type": "stream",
     "text": [
      "Hello world\n"
     ]
    }
   ],
   "source": [
    "print('Hello world')"
   ]
  },
  {
   "cell_type": "markdown",
   "metadata": {},
   "source": [
    "<h3>1.4: Storage</h3>\n",
    "    \n",
    "Where in the computer is a variable such as 'x' stored after the following Python line finishes?"
   ]
  },
  {
   "cell_type": "code",
   "execution_count": null,
   "metadata": {},
   "outputs": [],
   "source": [
    "x = 123"
   ]
  },
  {
   "cell_type": "markdown",
   "metadata": {},
   "source": [
    "The variable is saved in the main memory."
   ]
  },
  {
   "cell_type": "markdown",
   "metadata": {},
   "source": [
    "<h3>1.5: Error</h3>\n",
    "\n",
    "How do you fix a syntax error?"
   ]
  },
  {
   "cell_type": "markdown",
   "metadata": {},
   "source": [
    "This error occurs when there is violation of grammar rules in the coding. Pyhton tells you where the mistakes are, and if you spell the functions correctly, the code should work without any errors now. "
   ]
  },
  {
   "cell_type": "markdown",
   "metadata": {},
   "source": [
    "<h3>1.6: Vocabulary</h3>\n",
    "\n",
    "In a Python environment, what do we mean by these words?"
   ]
  },
  {
   "cell_type": "code",
   "execution_count": null,
   "metadata": {},
   "outputs": [],
   "source": [
    "continue lambda pass"
   ]
  },
  {
   "cell_type": "markdown",
   "metadata": {},
   "source": [
    "Continue function: Used in 'for' and 'while' loops, and returns the control to the starting of the loops. \n",
    "\n",
    "Lambda function: Used to create anonymous functions, which are small and not longer than a line.\n",
    "\n",
    "Pass function: A null statement, which is used as a placeholder when a loop or function is not implemented but also cannot have an emmpty body. "
   ]
  },
  {
   "cell_type": "markdown",
   "metadata": {},
   "source": [
    "<h3>1.7: Browse the web for answers</h3>\n",
    "\n",
    "One of the strengths of Python is its large community of users. There are tons of online forums and blogs that explain different parts of the Python language, how to make programs, cool plots etc. Can you figure out how to use Python to calculate the following?"
   ]
  },
  {
   "cell_type": "markdown",
   "metadata": {},
   "source": [
    "- 5+10\n",
    "- 100^2\n",
    "- log(10)\n",
    "- e^2"
   ]
  },
  {
   "cell_type": "code",
   "execution_count": 11,
   "metadata": {
    "scrolled": true
   },
   "outputs": [
    {
     "name": "stdout",
     "output_type": "stream",
     "text": [
      "The sum of these two numbers is: 15\n"
     ]
    }
   ],
   "source": [
    "# Code for 5+10:\n",
    "a = 5\n",
    "b = 10\n",
    "sum = a + b\n",
    "print(\"The sum of these two numbers is:\", sum)"
   ]
  },
  {
   "cell_type": "markdown",
   "metadata": {},
   "source": [
    "OR 5+10"
   ]
  },
  {
   "cell_type": "code",
   "execution_count": 12,
   "metadata": {},
   "outputs": [
    {
     "name": "stdout",
     "output_type": "stream",
     "text": [
      "The answer of 100^2 is: 10000\n"
     ]
    }
   ],
   "source": [
    "# Code for 100^2:\n",
    "a = 100\n",
    "b = 2\n",
    "power = a ** b\n",
    "print(\"The answer of 100^2 is:\", power)"
   ]
  },
  {
   "cell_type": "markdown",
   "metadata": {},
   "source": [
    "OR 100**2"
   ]
  },
  {
   "cell_type": "code",
   "execution_count": 15,
   "metadata": {},
   "outputs": [
    {
     "name": "stdout",
     "output_type": "stream",
     "text": [
      "The logarithm of 10 is:\n",
      "2.302585092994046\n"
     ]
    }
   ],
   "source": [
    "# Code for log(10)\n",
    "import math\n",
    "print(\"The logarithm of 10 is:\")\n",
    "print(math.log(10))"
   ]
  },
  {
   "cell_type": "markdown",
   "metadata": {},
   "source": [
    "OR \n",
    "import mat\n",
    "math.log(10)"
   ]
  },
  {
   "cell_type": "code",
   "execution_count": 18,
   "metadata": {},
   "outputs": [
    {
     "name": "stdout",
     "output_type": "stream",
     "text": [
      "The result of e^2 is:\n",
      "7.38905609893065\n"
     ]
    }
   ],
   "source": [
    "# Code for e^2\n",
    "import math\n",
    "print(\"The result of e^2 is:\")\n",
    "print(math.exp(2))"
   ]
  },
  {
   "cell_type": "markdown",
   "metadata": {},
   "source": [
    "OR math.exp(2)"
   ]
  },
  {
   "cell_type": "markdown",
   "metadata": {},
   "source": [
    "Try googling for the answers."
   ]
  },
  {
   "cell_type": "markdown",
   "metadata": {},
   "source": [
    "<h3>1.8: Scatter plot</h3>\n",
    "    \n",
    "Can you figure out how to make a simple scatter plot by googling?"
   ]
  },
  {
   "cell_type": "code",
   "execution_count": 4,
   "metadata": {},
   "outputs": [
    {
     "data": {
      "text/plain": [
       "[<matplotlib.lines.Line2D at 0x2a033735198>]"
      ]
     },
     "execution_count": 4,
     "metadata": {},
     "output_type": "execute_result"
    },
    {
     "data": {
      "image/png": "[encoded data removed]",
      "text/plain": [
       "<Figure size 432x288 with 1 Axes>"
      ]
     },
     "metadata": {
      "needs_background": "light"
     },
     "output_type": "display_data"
    }
   ],
   "source": [
    "import matplotlib.pyplot as plt\n",
    "import numpy as np\n",
    "\n",
    "x = np.linspace(0, 10, 30)\n",
    "y = np.sin(x)\n",
    "plt.plot(x,y,'o',color='black')\n"
   ]
  },
  {
   "cell_type": "markdown",
   "metadata": {},
   "source": [
    "<h3>1.9: Searching for errors</h3>\n",
    "\n",
    "You have spent several hours on writing a program and it does not work. Explain how you would proceed with debugging your code.\n",
    "\n",
    "By:\n",
    "- reading: \n",
    " the code \n",
    "- examining:\n",
    " ways to fix it by making several changes and running different versions\n",
    "- thinking:\n",
    " about the type of error it is and possible ways of debugging it\n",
    "- retreating:\n",
    " undo recent changes till you get back to a program that works and rebuild from there"
   ]
  },
  {
   "cell_type": "markdown",
   "metadata": {},
   "source": [
    "<h3>1.10: Definitions</h3>\n",
    "\n",
    "Explain the following terms using your own words. \n",
    "\n",
    "- Anaconda: a package which delivers python, jupyter and other usefull programs for coding\n",
    "- Python: a coding language\n",
    "- Jupyter Notebook: a browser based notebok for writing python code"
   ]
  },
  {
   "cell_type": "markdown",
   "metadata": {},
   "source": [
    "\n"
   ]
  }
 ],
 "metadata": {
  "kernelspec": {
   "display_name": "Python 3 (ipykernel)",
   "language": "python",
   "name": "python3"
  },
  "language_info": {
   "codemirror_mode": {
    "name": "ipython",
    "version": 3
   },
   "file_extension": ".py",
   "mimetype": "text/x-python",
   "name": "python",
   "nbconvert_exporter": "python",
   "pygments_lexer": "ipython3",
   "version": "3.9.12"
  }
 },
 "nbformat": 4,
 "nbformat_minor": 2
}
