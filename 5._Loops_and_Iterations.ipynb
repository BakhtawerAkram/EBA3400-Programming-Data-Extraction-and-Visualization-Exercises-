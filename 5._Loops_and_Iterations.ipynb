{
 "cells": [
  {
   "cell_type": "markdown",
   "metadata": {},
   "source": [
    "<h2>EBA3400 Exercise Set 5: Loops and Iterations</h2>"
   ]
  },
  {
   "cell_type": "markdown",
   "metadata": {},
   "source": [
    "<h3>5.1: The while loop 1</h3>\n",
    "\n",
    "Write a program that prints out a sequence of numbers from 1 to 10 using the while loop"
   ]
  },
  {
   "cell_type": "code",
   "execution_count": 1,
   "metadata": {},
   "outputs": [
    {
     "name": "stdout",
     "output_type": "stream",
     "text": [
      "0\n",
      "1\n",
      "2\n",
      "3\n",
      "4\n",
      "5\n",
      "6\n",
      "7\n",
      "8\n",
      "9\n",
      "10\n",
      "Finished\n"
     ]
    }
   ],
   "source": [
    "count = 0\n",
    "\n",
    "while count <= 10:\n",
    "    print(count)\n",
    "    count = count +1\n",
    "print('Finished')"
   ]
  },
  {
   "cell_type": "markdown",
   "metadata": {},
   "source": [
    "<h3>5.2: The while loop 2</h3>\n",
    "\n",
    "Write a program that prints out a sequence of numbers from 10 to 1 using the while loop. Add a print statement that says \"Finished\" when the while loop ends."
   ]
  },
  {
   "cell_type": "code",
   "execution_count": 2,
   "metadata": {},
   "outputs": [
    {
     "name": "stdout",
     "output_type": "stream",
     "text": [
      "10\n",
      "9\n",
      "8\n",
      "7\n",
      "6\n",
      "5\n",
      "4\n",
      "3\n",
      "2\n",
      "1\n",
      "Finished\n"
     ]
    }
   ],
   "source": [
    "count = 10\n",
    "\n",
    "while count > 0:\n",
    "    print(count)\n",
    "    count = count - 1\n",
    "print('Finished')"
   ]
  },
  {
   "cell_type": "markdown",
   "metadata": {},
   "source": [
    "<h3>5.3: The infinite while loop</h3>\n",
    "\n",
    "Write a program that repeatedly ask the user for a password and checks if it is correct. If yes, stop, if not, ask again.\n",
    "\n",
    "- If the user specifies the correct password, which should be 'summer2019', the while loop should end and print out 'Password is correct.' \n",
    "- If the user inputs the wrong password, the program should print out 'Wrong password.' and the user should be asked to specify the password again. \n",
    "\n",
    "Hint: this program requires many of the things we have learned so far: the input function, the if statement and the infinite while loop."
   ]
  },
  {
   "cell_type": "code",
   "execution_count": 9,
   "metadata": {},
   "outputs": [
    {
     "name": "stdout",
     "output_type": "stream",
     "text": [
      "Password: sumer2019\n",
      "Wrong Password\n",
      "Password: summer2019\n",
      "Correct Password\n"
     ]
    }
   ],
   "source": [
    "while True:\n",
    "    password = input('Password: ')\n",
    "    if password == 'summer2019':\n",
    "        print('Correct Password')\n",
    "        break\n",
    "    else:\n",
    "        print('Wrong Password')"
   ]
  },
  {
   "cell_type": "markdown",
   "metadata": {},
   "source": [
    "<h3>5.4: The for loop based on a list</h3>\n",
    "\n",
    "Specify a variable <b>my_friends</b> and add the names of a couple of your friends to the variable as a list. Create a for loop that loops through all of your friends in the list and prints their names."
   ]
  },
  {
   "cell_type": "code",
   "execution_count": 10,
   "metadata": {},
   "outputs": [
    {
     "name": "stdout",
     "output_type": "stream",
     "text": [
      "Angel\n",
      "Sahra\n",
      "Shani\n",
      "Liselotte\n"
     ]
    }
   ],
   "source": [
    "my_friends = ['Angel', 'Sahra', 'Shani', 'Liselotte']\n",
    "for friend in my_friends:\n",
    "    print(friend)"
   ]
  },
  {
   "cell_type": "markdown",
   "metadata": {},
   "source": [
    "<h3>5.5: Count the number of friends</h3>\n",
    "\n",
    "Create a program that uses a for loop to count the number of friends in the list <b>my_friends</b>. The program should end with a print statement that says 'Total number of friends: ' followed by the count.\n",
    "\n",
    "Validate your results using the built-in function <b>len()</b>."
   ]
  },
  {
   "cell_type": "code",
   "execution_count": 1,
   "metadata": {},
   "outputs": [
    {
     "name": "stdout",
     "output_type": "stream",
     "text": [
      "Angel\n",
      "Sahra\n",
      "Shani\n",
      "Liselotte\n",
      "J\n",
      "Total number of friends:  5\n"
     ]
    },
    {
     "data": {
      "text/plain": [
       "5"
      ]
     },
     "execution_count": 1,
     "metadata": {},
     "output_type": "execute_result"
    }
   ],
   "source": [
    "my_friends = ['Angel', 'Sahra', 'Shani', 'Liselotte', 'J']\n",
    "count = 0\n",
    "for friend in my_friends:\n",
    "    print(friend)\n",
    "    count = count + 1\n",
    "print('Total number of friends: ', count)\n",
    "\n",
    "len(my_friends)"
   ]
  },
  {
   "cell_type": "markdown",
   "metadata": {},
   "source": [
    "<h3>5.6: Sum of numbers</h3>\n",
    "\n",
    "Create a program that uses a for loop to sum all the integer numbers between 100 and 4500.\n",
    "\n",
    "Validate your results using the built-in function <b>sum()</b>."
   ]
  },
  {
   "cell_type": "code",
   "execution_count": 19,
   "metadata": {},
   "outputs": [
    {
     "name": "stdout",
     "output_type": "stream",
     "text": [
      "Total:  10122300\n"
     ]
    },
    {
     "data": {
      "text/plain": [
       "10122300"
      ]
     },
     "execution_count": 19,
     "metadata": {},
     "output_type": "execute_result"
    }
   ],
   "source": [
    "total = 0\n",
    "for i in range (100,4501):\n",
    "    total = total + i \n",
    "print('Total: ', total)\n",
    "\n",
    "sum(range(100,4501))"
   ]
  },
  {
   "cell_type": "markdown",
   "metadata": {},
   "source": [
    "<h3>5.7: Sum of numbers (as a function)</h3>\n",
    "\n",
    "Create a function where you copy in the code from Exercise 5.6. The user should be able to input two numbers a and b and the function should return the sum of all numbers from a to b.\n",
    "\n",
    "Call the function with input a=1 and b=10000."
   ]
  },
  {
   "cell_type": "code",
   "execution_count": 3,
   "metadata": {},
   "outputs": [
    {
     "name": "stdout",
     "output_type": "stream",
     "text": [
      "Enter the first number in range: 1\n",
      "Enter the second number in range: 10000\n",
      "Total:  49995000\n"
     ]
    },
    {
     "data": {
      "text/plain": [
       "49995000"
      ]
     },
     "execution_count": 3,
     "metadata": {},
     "output_type": "execute_result"
    }
   ],
   "source": [
    "total = 0\n",
    "a = int(input('Enter the first number in range: '))\n",
    "b = int(input('Enter the second number in range: '))\n",
    "\n",
    "for i in range (a,b):\n",
    "    total = total + i\n",
    "print('Total: ', total)\n",
    "\n",
    "sum(range(a,b))\n"
   ]
  },
  {
   "cell_type": "code",
   "execution_count": 2,
   "metadata": {},
   "outputs": [
    {
     "name": "stdout",
     "output_type": "stream",
     "text": [
      "49995000\n"
     ]
    }
   ],
   "source": [
    "def sum_range(a,b):\n",
    "    total = 0\n",
    "    for number in range(a,b):\n",
    "        total = total + number\n",
    "    return total\n",
    "sum_of_numbers = sum_range(1,10000)\n",
    "print(sum_of_numbers)"
   ]
  },
  {
   "cell_type": "markdown",
   "metadata": {},
   "source": [
    "<h3>5.8: The largest number</h3>\n",
    "\n",
    "By using the following list of numbers"
   ]
  },
  {
   "cell_type": "code",
   "execution_count": 23,
   "metadata": {},
   "outputs": [],
   "source": [
    "my_numbers = [10,1,13,17,19,4,4,9,11,13,19,23,29,30,33,1,3,9,8,9,23]"
   ]
  },
  {
   "cell_type": "code",
   "execution_count": 26,
   "metadata": {},
   "outputs": [
    {
     "name": "stdout",
     "output_type": "stream",
     "text": [
      "[10, 1, 13, 17, 19, 4, 4, 9, 11, 13, 19, 23, 29, 30, 33, 1, 3, 9, 8, 9, 23]\n",
      "The largest number in the list is:  33\n"
     ]
    }
   ],
   "source": [
    "largest = None\n",
    "for number in my_numbers:\n",
    "    if largest is None or number > largest:\n",
    "        largest = number\n",
    "print(my_numbers)\n",
    "print('The largest number in the list is: ', largest)"
   ]
  },
  {
   "cell_type": "markdown",
   "metadata": {},
   "source": [
    "Write a program that uses a foor loop to find the largest number in the list <b>my_numbers</b>."
   ]
  },
  {
   "cell_type": "markdown",
   "metadata": {},
   "source": [
    "<h3>5.9: How many dogs?</h3>\n",
    "    \n",
    "By using the following list of animals"
   ]
  },
  {
   "cell_type": "code",
   "execution_count": 7,
   "metadata": {},
   "outputs": [],
   "source": [
    "animals = ['dog','cat','dog','dog','bird','cat','fox',\n",
    "           'squirrel','cat','dog','bird','dog','panda','lion','dog','cat','aligator','lion']"
   ]
  },
  {
   "cell_type": "code",
   "execution_count": 31,
   "metadata": {},
   "outputs": [
    {
     "name": "stdout",
     "output_type": "stream",
     "text": [
      "Number of dogs in the list:  6\n"
     ]
    }
   ],
   "source": [
    "dog = 0\n",
    "\n",
    "for item in animals:\n",
    "    if item == 'dog':\n",
    "        dog = dog + 1\n",
    "print('Number of dogs in the list: ', dog)\n",
    "    "
   ]
  },
  {
   "cell_type": "markdown",
   "metadata": {},
   "source": [
    "<h3>5.10: How many animals?</h3>\n",
    "    \n",
    "Redo Exerciese 5.9, but this time as a function. The function should take two arguments. The first should be the list <b>animals</b> and the second should be a string with the name of what type of animal you want to count. The function should count the number of relevant animals and return the total count.\n",
    "\n",
    "Call the function and check how many cats, pandas, squirrels and lions that are present in the list <b>animals</b>."
   ]
  },
  {
   "cell_type": "code",
   "execution_count": 16,
   "metadata": {},
   "outputs": [
    {
     "name": "stdout",
     "output_type": "stream",
     "text": [
      "Number of catis: 4\n",
      "Number of pandais: 1\n",
      "Number of dogis: 6\n",
      "Number of birdis: 2\n",
      "Number of foxis: 1\n",
      "Number of squirrelis: 1\n",
      "Number of lionis: 2\n",
      "Number of aligatoris: 1\n"
     ]
    }
   ],
   "source": [
    "def count_animals(animal_list,animal_to_count):\n",
    "    count = 0\n",
    "    for item in animal_list:\n",
    "        if item == animal_to_count:\n",
    "            count = count + 1\n",
    "    return count\n",
    "\n",
    "list_animal = ['cat','panda','dog','bird','fox','squirrel','lion','aligator']\n",
    "for item in list_animal:\n",
    "    no_animals = count_animals(animals, item)\n",
    "    print('Number of ' + item + 'is: ' + str(no_animals))\n",
    "\n",
    "#OR\n",
    "#no_cats = count_animals(animals, 'cat')\n",
    "#no_pandas = count_animals(animals, 'panda')\n",
    "#no_dog = count_animals(animals, 'dog')\n",
    "#no_bird = count_animals(animals, 'bird')\n",
    "#no_fox = count_animals(animals, 'fox')\n",
    "#no_squirrel = count_animals(animals, 'squirrel')\n",
    "#no_lion = count_animals(animals, 'lion')\n",
    "#no_aligator = count_animals(animals, 'aligator')\n",
    "\n",
    "#print('Number of cats are: ', no_cats)\n",
    "#print('Number of pandas are: ', no_pandas)\n",
    "#print('Number of dog are: ', no_dog)\n",
    "#print('Number of bird are: ', no_bird)\n",
    "#print('Number of fox are: ', no_fox)\n",
    "#print('Number of squirrel are: ', no_squirrel)\n",
    "#print('Number of lion are: ', no_lion)\n",
    "#print('Number of aligaor are: ', no_aligator)\n"
   ]
  },
  {
   "cell_type": "markdown",
   "metadata": {},
   "source": [
    "<h3>5.11: How many numbers are above 100?</h3>\n",
    "    \n",
    "Consider the following list of numbers"
   ]
  },
  {
   "cell_type": "code",
   "execution_count": 19,
   "metadata": {},
   "outputs": [],
   "source": [
    "numbers = [10,40,199,20,344,300,4,55,1,4000,99,320,32,300,22,12,99,111,23,93,44,93,2,3,9,100,399,33,99,555,43]"
   ]
  },
  {
   "cell_type": "code",
   "execution_count": 34,
   "metadata": {},
   "outputs": [
    {
     "name": "stdout",
     "output_type": "stream",
     "text": [
      "Number of numbers above 100 in the list:  9\n"
     ]
    }
   ],
   "source": [
    "largest = 100\n",
    "count = 0 \n",
    "\n",
    "for no in numbers:\n",
    "    if no > largest:\n",
    "        count = count + 1\n",
    "print('Number of numbers above 100 in the list: ', count)\n"
   ]
  },
  {
   "cell_type": "markdown",
   "metadata": {},
   "source": [
    "<h3>5.12: How many numbers are above the threshold?</h3>\n",
    "    \n",
    "Redo Exerciese 5.11, but this time as a function. The function should take two arguments. The first should be the list <b>numbers</b> and the second should be a threshold. The function should count the number of elements above the threshold and print the total count.\n",
    "\n",
    "Call the function and check how many elements that are bigger than 5, 90, 100 and 300."
   ]
  },
  {
   "cell_type": "code",
   "execution_count": 31,
   "metadata": {},
   "outputs": [
    {
     "name": "stdout",
     "output_type": "stream",
     "text": [
      "The total number of elements above 5 is:  27\n",
      "The total number of elements above 90 is:  15\n",
      "The total number of elements above 100 is:  9\n",
      "The total number of elements above 300 is:  5\n"
     ]
    }
   ],
   "source": [
    "def count_number(numbers,threshold):\n",
    "    count = 0\n",
    "    for number in numbers:\n",
    "        if number > threshold:\n",
    "            count = count + 1\n",
    "    print('The total number of elements above',threshold,'is: ',count)\n",
    "\n",
    "count_number(numbers, 5)\n",
    "count_number(numbers, 90)\n",
    "count_number(numbers, 100)\n",
    "count_number(numbers, 300)"
   ]
  }
 ],
 "metadata": {
  "kernelspec": {
   "display_name": "Python 3 (ipykernel)",
   "language": "python",
   "name": "python3"
  },
  "language_info": {
   "codemirror_mode": {
    "name": "ipython",
    "version": 3
   },
   "file_extension": ".py",
   "mimetype": "text/x-python",
   "name": "python",
   "nbconvert_exporter": "python",
   "pygments_lexer": "ipython3",
   "version": "3.9.12"
  }
 },
 "nbformat": 4,
 "nbformat_minor": 2
}
