{
 "cells": [
  {
   "cell_type": "markdown",
   "metadata": {},
   "source": [
    "<h2>EBA3400 Exercise Set 2: Variables, Statements and Expressions</h2>"
   ]
  },
  {
   "cell_type": "markdown",
   "metadata": {},
   "source": [
    "<h3>2.1: Types</h3>\n",
    "\n",
    "Explain the difference between the following types of variables\n",
    "- Integer\n",
    "- Float\n",
    "- String\n",
    "- Boolean"
   ]
  },
  {
   "cell_type": "markdown",
   "metadata": {},
   "source": [
    "Integer: Whole numbers \n",
    "Float: Decimal numbers\n",
    "String: Text/numbers in ''\n",
    "Boolean: true/false"
   ]
  },
  {
   "cell_type": "markdown",
   "metadata": {},
   "source": [
    "<h3>2.2: Values and Types</h3>\n",
    "    \n",
    "Use Python to check the type of each of the following values: 10, 0.5, '100', 'Yes', True"
   ]
  },
  {
   "cell_type": "code",
   "execution_count": 2,
   "metadata": {},
   "outputs": [
    {
     "name": "stdout",
     "output_type": "stream",
     "text": [
      "<class 'int'>\n",
      "<class 'float'>\n",
      "<class 'str'>\n",
      "<class 'str'>\n",
      "<class 'bool'>\n"
     ]
    },
    {
     "data": {
      "text/plain": [
       "(int, float, str)"
      ]
     },
     "execution_count": 2,
     "metadata": {},
     "output_type": "execute_result"
    }
   ],
   "source": [
    "print(type(10))\n",
    "print(type(0.5))\n",
    "print(type('100'))\n",
    "print(type('Yes'))\n",
    "print(type(True))\n",
    "\n",
    "#OR\n",
    "\n",
    "type(10), type(0.5), type('100')"
   ]
  },
  {
   "cell_type": "markdown",
   "metadata": {},
   "source": [
    "<h3>2.3: Defining a variable</h3>\n",
    "\n",
    "Define a variable with the name \"my_var\" and assign the value 5 to the variable. Add a print statement that prints \"my_var\". "
   ]
  },
  {
   "cell_type": "code",
   "execution_count": 2,
   "metadata": {},
   "outputs": [
    {
     "name": "stdout",
     "output_type": "stream",
     "text": [
      "5\n"
     ]
    }
   ],
   "source": [
    "my_var=5\n",
    "print(my_var)"
   ]
  },
  {
   "cell_type": "markdown",
   "metadata": {},
   "source": [
    "Run the code again by changing the name of the variable to \"pass\". What happens and why?"
   ]
  },
  {
   "cell_type": "code",
   "execution_count": 3,
   "metadata": {},
   "outputs": [
    {
     "ename": "SyntaxError",
     "evalue": "invalid syntax (<ipython-input-3-ffd3409a2f6b>, line 1)",
     "output_type": "error",
     "traceback": [
      "\u001b[1;36m  File \u001b[1;32m\"<ipython-input-3-ffd3409a2f6b>\"\u001b[1;36m, line \u001b[1;32m1\u001b[0m\n\u001b[1;33m    pass=5\u001b[0m\n\u001b[1;37m        ^\u001b[0m\n\u001b[1;31mSyntaxError\u001b[0m\u001b[1;31m:\u001b[0m invalid syntax\n"
     ]
    }
   ],
   "source": [
    "pass=5\n",
    "print(pass)"
   ]
  },
  {
   "cell_type": "markdown",
   "metadata": {},
   "source": [
    "We get an syntax error due to the fact that 'pass' is a reserved word in Python. Such words cannot be used as variable names."
   ]
  },
  {
   "cell_type": "markdown",
   "metadata": {},
   "source": [
    "<h3>2.4: Operations</h3>\n",
    "\n",
    "Define the following variables\n",
    "- a = 10\n",
    "- b = 20\n",
    "- c = 3.0\n",
    "\n",
    "Without using a calculator, what types and values will you get from the following computations?\n",
    "- a*b\n",
    "- b+c\n",
    "- c*(a+b)\n",
    "- a+b*c\n",
    "- a**2\n",
    "- b//2\n",
    "- a*c/b\n",
    "- b/c+a\n",
    "\n",
    "Verify your results by using Python."
   ]
  },
  {
   "cell_type": "code",
   "execution_count": 5,
   "metadata": {},
   "outputs": [],
   "source": [
    "a = 10\n",
    "b = 20\n",
    "c = 3.0"
   ]
  },
  {
   "cell_type": "code",
   "execution_count": 6,
   "metadata": {},
   "outputs": [
    {
     "name": "stdout",
     "output_type": "stream",
     "text": [
      "\n",
      " 200 \n",
      " 23.0 \n",
      " 90.0 \n",
      " 70.0 \n",
      " 100 \n",
      " 10 \n",
      " 1.5 \n",
      " 16.666666666666668\n",
      "200 23.0 90.0\n"
     ]
    },
    {
     "data": {
      "text/plain": [
       "(int, float)"
      ]
     },
     "execution_count": 6,
     "metadata": {},
     "output_type": "execute_result"
    }
   ],
   "source": [
    "comp_1 = a*b\n",
    "comp_2 = b+c\n",
    "comp_3 = c*(a+b)\n",
    "comp_4 = a+b*c\n",
    "comp_5 = a**2\n",
    "comp_6 = b//2\n",
    "comp_7 = a*c/b\n",
    "comp_8 = b/c+a\n",
    "print('\\n',comp_1,'\\n',comp_2,'\\n',comp_3,'\\n',comp_4,'\\n',comp_5,'\\n',comp_6,'\\n',comp_7,'\\n',comp_8)\n",
    "\n",
    "#OR\n",
    "\n",
    "print(a*b,b+c,c*(a+b))\n",
    "type(a*b), type(b+c)"
   ]
  },
  {
   "cell_type": "markdown",
   "metadata": {},
   "source": [
    "<h3>2.5: Using the input function</h3>\n",
    "    \n",
    "Write a program that uses input to prompt a user for their name and then welcomes them.\n",
    "\n",
    "- Enter your name: Chuck\n",
    "- Hello Chuck"
   ]
  },
  {
   "cell_type": "code",
   "execution_count": 4,
   "metadata": {},
   "outputs": [
    {
     "name": "stdout",
     "output_type": "stream",
     "text": [
      "Enter your name:Bakh\n",
      "Hello! Bakh\n"
     ]
    }
   ],
   "source": [
    "username = input('Enter your name:')\n",
    "print('Hello!', username)"
   ]
  },
  {
   "cell_type": "markdown",
   "metadata": {},
   "source": [
    "<h3>2.6: Pay</h3>\n",
    "    \n",
    "Write a program to prompt the user for hours and rate per hour to compute gross pay."
   ]
  },
  {
   "cell_type": "code",
   "execution_count": 7,
   "metadata": {},
   "outputs": [
    {
     "name": "stdout",
     "output_type": "stream",
     "text": [
      "Enter the amount of hours you work: \n",
      "30\n",
      "Enter the rate per hour: \n",
      "120\n",
      "The gross pay is:  3600\n"
     ]
    }
   ],
   "source": [
    "hours = int(input('Enter the amount of hours you work: \\n'))\n",
    "rate = int(input('Enter the rate per hour: \\n'))\n",
    "gross_pay = hours * rate\n",
    "print('The gross pay is: ', gross_pay)\n",
    "\n",
    "#OR\n",
    "# temp = input('Enter hours:')\n",
    "# hours = float(temp)\n",
    "# temp = input('Enter rate')\n",
    "# rate = float(temp)\n",
    "# pay = hours*rate\n",
    "# print('Pay:',pay)"
   ]
  },
  {
   "cell_type": "markdown",
   "metadata": {},
   "source": [
    "<h3>2.7: Temparature</h3>\n",
    "\n",
    "Write a program which prompts the user for a Celsius temperature, convert the temperature to Fahrenheit, and print out the converted temperature."
   ]
  },
  {
   "cell_type": "code",
   "execution_count": 8,
   "metadata": {},
   "outputs": [
    {
     "name": "stdout",
     "output_type": "stream",
     "text": [
      "Enter the temperature in Celsius to convert it to Fahrenheit:20\n",
      "The temperature is  71.0 Fahrenheit\n"
     ]
    }
   ],
   "source": [
    "celsius = int(input('Enter the temperature in Celsius to convert it to Fahrenheit:'))\n",
    "into_fahrenheit = (celsius * 9) / 5 + 35\n",
    "print('The temperature is ', into_fahrenheit, 'Fahrenheit')\n",
    "\n",
    "#OR\n",
    "# inp = input('Enter Celsius Temperature:')\n",
    "# cel = float(inp)\n",
    "# fahr = (cel*9)/5+35\n",
    "# print('Fahranheit:', fahr)"
   ]
  },
  {
   "cell_type": "markdown",
   "metadata": {},
   "source": [
    "<h3>2.8: Writing text multiple times</h3>\n",
    "\n",
    "Write 'I am sorry' 100 times by using string operations."
   ]
  },
  {
   "cell_type": "code",
   "execution_count": 8,
   "metadata": {},
   "outputs": [
    {
     "name": "stdout",
     "output_type": "stream",
     "text": [
      "I am sorry! I am sorry! I am sorry! I am sorry! I am sorry! I am sorry! I am sorry! I am sorry! I am sorry! I am sorry! I am sorry! I am sorry! I am sorry! I am sorry! I am sorry! I am sorry! I am sorry! I am sorry! I am sorry! I am sorry! I am sorry! I am sorry! I am sorry! I am sorry! I am sorry! I am sorry! I am sorry! I am sorry! I am sorry! I am sorry! I am sorry! I am sorry! I am sorry! I am sorry! I am sorry! I am sorry! I am sorry! I am sorry! I am sorry! I am sorry! I am sorry! I am sorry! I am sorry! I am sorry! I am sorry! I am sorry! I am sorry! I am sorry! I am sorry! I am sorry! I am sorry! I am sorry! I am sorry! I am sorry! I am sorry! I am sorry! I am sorry! I am sorry! I am sorry! I am sorry! I am sorry! I am sorry! I am sorry! I am sorry! I am sorry! I am sorry! I am sorry! I am sorry! I am sorry! I am sorry! I am sorry! I am sorry! I am sorry! I am sorry! I am sorry! I am sorry! I am sorry! I am sorry! I am sorry! I am sorry! I am sorry! I am sorry! I am sorry! I am sorry! I am sorry! I am sorry! I am sorry! I am sorry! I am sorry! I am sorry! I am sorry! I am sorry! I am sorry! I am sorry! I am sorry! I am sorry! I am sorry! I am sorry! I am sorry! I am sorry! \n"
     ]
    }
   ],
   "source": [
    "string = 'I am sorry! '\n",
    "times = 100\n",
    "print(string*times)"
   ]
  },
  {
   "cell_type": "markdown",
   "metadata": {},
   "source": [
    "<h3>2.9: Circle radius</h3>\n",
    "\n",
    "Write a program that accepts the radius of a circle from the user and compute the area."
   ]
  },
  {
   "cell_type": "code",
   "execution_count": 10,
   "metadata": {},
   "outputs": [
    {
     "name": "stdout",
     "output_type": "stream",
     "text": [
      "Enter the radius of a circle to get the area: 8\n",
      "The are of the circle with the radius  8 is  201.06\n"
     ]
    }
   ],
   "source": [
    "import math \n",
    "radius = int(input('Enter the radius of a circle to get the area: '))\n",
    "area = math.pi*radius**2\n",
    "answer = str(round(area,2))\n",
    "print('The area of the circle with the radius ', radius, 'is ', answer)"
   ]
  },
  {
   "cell_type": "markdown",
   "metadata": {},
   "source": [
    "<h3>2.10: First and last name</h3>\n",
    "\n",
    "Write a program which accepts the user's first and last name and print them in reverse order with a space between them."
   ]
  },
  {
   "cell_type": "code",
   "execution_count": 13,
   "metadata": {},
   "outputs": [
    {
     "name": "stdout",
     "output_type": "stream",
     "text": [
      "Enter your first name: Bakhtawer\n",
      "Enter your last name: Akram\n",
      "Akram , Bakhtawer\n"
     ]
    }
   ],
   "source": [
    "first_name = input('Enter your first name: ')\n",
    "last_name = input('Enter your last name: ')\n",
    "print(last_name, ', ' + first_name)"
   ]
  },
  {
   "cell_type": "markdown",
   "metadata": {},
   "source": [
    "\n"
   ]
  }
 ],
 "metadata": {
  "kernelspec": {
   "display_name": "Python 3 (ipykernel)",
   "language": "python",
   "name": "python3"
  },
  "language_info": {
   "codemirror_mode": {
    "name": "ipython",
    "version": 3
   },
   "file_extension": ".py",
   "mimetype": "text/x-python",
   "name": "python",
   "nbconvert_exporter": "python",
   "pygments_lexer": "ipython3",
   "version": "3.9.12"
  }
 },
 "nbformat": 4,
 "nbformat_minor": 2
}
