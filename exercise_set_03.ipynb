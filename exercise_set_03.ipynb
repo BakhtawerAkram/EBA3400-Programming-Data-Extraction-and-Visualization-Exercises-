{
 "cells": [
  {
   "cell_type": "markdown",
   "metadata": {},
   "source": [
    "<h2>EBA3400 Exercise Set 3: Conditional Execution</h2>"
   ]
  },
  {
   "cell_type": "markdown",
   "metadata": {},
   "source": [
    "<h3>3.1: Boolean expressions</h3>\n",
    "\n",
    "Consider the following variables"
   ]
  },
  {
   "cell_type": "code",
   "execution_count": 3,
   "metadata": {},
   "outputs": [],
   "source": [
    "a = 10\n",
    "b = 100\n",
    "c = 14\n",
    "d = 3"
   ]
  },
  {
   "cell_type": "markdown",
   "metadata": {},
   "source": [
    "Test the following\n",
    "- a is equal to 10.\n",
    "- b is less than 100.\n",
    "- a is equal to c.\n",
    "- d is less than or equal to a and c is less than 20.\n",
    "- a is larger than or equal to 0 or d is larger than 4.\n",
    "- a is not equal to 5\n",
    "\n",
    "Each of the above should print out either True or False."
   ]
  },
  {
   "cell_type": "code",
   "execution_count": 4,
   "metadata": {},
   "outputs": [
    {
     "name": "stdout",
     "output_type": "stream",
     "text": [
      "True\n",
      "False\n",
      "False\n",
      "True\n",
      "True\n",
      "True\n"
     ]
    }
   ],
   "source": [
    "print(a==10)\n",
    "print(b<100)\n",
    "print(a==c)\n",
    "print(d<=a and c<20)\n",
    "print(a>=0 or d>4)\n",
    "print(a!=5)"
   ]
  },
  {
   "cell_type": "markdown",
   "metadata": {},
   "source": [
    "<h3>3.2: Logical operators</h3>\n",
    "\n",
    "Define a variable n and assign a value of 10. Write a short code that prints out \"True\" if n is divisible by either 2 or 3. What is the result if we change the value of n to the following: \n",
    "\n",
    "- n=5\n",
    "- n=12\n",
    "- n=13\n",
    "\n",
    "Hint: use the modulus operator (%) discussed in Lecture 2."
   ]
  },
  {
   "cell_type": "code",
   "execution_count": 8,
   "metadata": {},
   "outputs": [
    {
     "name": "stdout",
     "output_type": "stream",
     "text": [
      "True\n"
     ]
    }
   ],
   "source": [
    "n = 12\n",
    "\n",
    "print(n%2 == 0 or n%3 == 0)"
   ]
  },
  {
   "cell_type": "markdown",
   "metadata": {},
   "source": [
    "<h3>3.3: Logical statements</h3>\n",
    "    \n",
    "Write a program that ask the user for income and writes out \"Rich\" if the number is above or equal to 1000 and \"Poor\" if the number is below 1000."
   ]
  },
  {
   "cell_type": "code",
   "execution_count": 13,
   "metadata": {},
   "outputs": [
    {
     "name": "stdout",
     "output_type": "stream",
     "text": [
      "Insert your income, and the programe will determine wether you are rich or poor: 1001\n",
      "Rich\n"
     ]
    }
   ],
   "source": [
    "income = int(input(\"Insert your income, and the programe will determine wether you are rich or poor: \"))\n",
    "if income>=1000:\n",
    "    print('Rich')\n",
    "elif income<1000:\n",
    "    print('Poor')"
   ]
  },
  {
   "cell_type": "markdown",
   "metadata": {},
   "source": [
    "<h3>3.4: Debugging logical statements</h3>\n",
    "    \n",
    "Consider the following two cases"
   ]
  },
  {
   "cell_type": "code",
   "execution_count": 14,
   "metadata": {},
   "outputs": [
    {
     "data": {
      "text/plain": [
       "False"
      ]
     },
     "execution_count": 14,
     "metadata": {},
     "output_type": "execute_result"
    }
   ],
   "source": [
    "x = 2\n",
    "y = 0\n",
    "x == 1 and (x/y) > 2"
   ]
  },
  {
   "cell_type": "code",
   "execution_count": 21,
   "metadata": {},
   "outputs": [
    {
     "ename": "ZeroDivisionError",
     "evalue": "division by zero",
     "output_type": "error",
     "traceback": [
      "\u001b[1;31m---------------------------------------------------------------------------\u001b[0m",
      "\u001b[1;31mZeroDivisionError\u001b[0m                         Traceback (most recent call last)",
      "\u001b[1;32m<ipython-input-21-8abb62693914>\u001b[0m in \u001b[0;36m<module>\u001b[1;34m\u001b[0m\n\u001b[0;32m      1\u001b[0m \u001b[0mx\u001b[0m \u001b[1;33m=\u001b[0m \u001b[1;36m1\u001b[0m\u001b[1;33m\u001b[0m\u001b[1;33m\u001b[0m\u001b[0m\n\u001b[0;32m      2\u001b[0m \u001b[0my\u001b[0m \u001b[1;33m=\u001b[0m \u001b[1;36m0\u001b[0m\u001b[1;33m\u001b[0m\u001b[1;33m\u001b[0m\u001b[0m\n\u001b[1;32m----> 3\u001b[1;33m \u001b[0mx\u001b[0m \u001b[1;33m==\u001b[0m \u001b[1;36m1\u001b[0m \u001b[1;32mand\u001b[0m \u001b[1;33m(\u001b[0m\u001b[0mx\u001b[0m\u001b[1;33m/\u001b[0m\u001b[0my\u001b[0m\u001b[1;33m)\u001b[0m \u001b[1;33m>\u001b[0m \u001b[1;36m2\u001b[0m\u001b[1;33m\u001b[0m\u001b[1;33m\u001b[0m\u001b[0m\n\u001b[0m",
      "\u001b[1;31mZeroDivisionError\u001b[0m: division by zero"
     ]
    }
   ],
   "source": [
    "x = 1\n",
    "y = 0\n",
    "x == 1 and (x/y) > 2"
   ]
  },
  {
   "cell_type": "markdown",
   "metadata": {},
   "source": [
    "- Why does the first code work, while the second results in an error?\n",
    "- What is the error about?\n",
    "- How can we guard against such errors?"
   ]
  },
  {
   "cell_type": "markdown",
   "metadata": {},
   "source": [
    "The first one works because both statements are false. The second one does not work beacuse one of the statements is true whle the other is false. Therefore we need to replace 'and' with 'or'"
   ]
  },
  {
   "cell_type": "markdown",
   "metadata": {},
   "source": [
    "<h3>3.5: Pay with overtime</h3>\n",
    "    \n",
    "Rewrite your pay computation from Exercise Set 2, so that the employee gets 1.5 times the hourly rate for hours worked above 40 hours."
   ]
  },
  {
   "cell_type": "code",
   "execution_count": 4,
   "metadata": {},
   "outputs": [
    {
     "name": "stdout",
     "output_type": "stream",
     "text": [
      "Enter hours: 50\n",
      "Enter rate: 150\n",
      "Pay: 7500.0\n",
      "As your working hours are above 40, the hourly rate is multiplied by 1.5 and your pay for the extra hours is:  2250.0\n",
      "And your total pay with overtime is:  9750.0\n"
     ]
    }
   ],
   "source": [
    "temp = input('Enter hours: ')\n",
    "hours = float(temp)\n",
    "temp = input('Enter rate: ')\n",
    "rate = float(temp)\n",
    "\n",
    "pay = hours*rate\n",
    "print('Pay:',pay)\n",
    "\n",
    "if hours>40:\n",
    "    above_40 = hours - 40\n",
    "    extra_rate = rate*1.5\n",
    "    pay_overtime = above_40*extra_rate\n",
    "    print('As your working hours are above 40, the hourly rate is multiplied by 1.5 and your pay for the extra hours is: ',pay_overtime)\n",
    "    print('And your total pay with overtime is: ', pay+pay_overtime)"
   ]
  },
  {
   "cell_type": "markdown",
   "metadata": {},
   "source": [
    "<h3>3.6: Grade scoring: initial code</h3>\n",
    "    \n",
    "Write a program to prompt for a score between 0.0 and 1.0. If the score is out of range, print the error message \"Score out of range\". If the score is between 0.0 and 1.0, print the message \"Score correctly specified\"."
   ]
  },
  {
   "cell_type": "code",
   "execution_count": 32,
   "metadata": {},
   "outputs": [
    {
     "name": "stdout",
     "output_type": "stream",
     "text": [
      "Insert a score: 0.4\n",
      "Score correctly specified!\n"
     ]
    }
   ],
   "source": [
    "score = float(input('Insert a score: '))\n",
    "if score<1.0:\n",
    "    print('Score correctly specified!')\n",
    "else:\n",
    "    print('Score out of range')"
   ]
  },
  {
   "cell_type": "markdown",
   "metadata": {},
   "source": [
    "<h3>3.7: Grade scoring: grade table</h3>\n",
    "    \n",
    "Write a program to prompt for a score between 0.0 and 1.0. If the score is out of range,  print the error message \"Score out of range\". If the score is between 0.0 and 1.0, print a grade using the following table:\n",
    "\n",
    "- Greater or equal to 0.9, then grade A\n",
    "- Greater or equal to 0.8, then grade B\n",
    "- Greater or equal to 0.7, then grade C\n",
    "- Greater or equal to 0.5, then grade D\n",
    "- Below 0.5, then grade F"
   ]
  },
  {
   "cell_type": "code",
   "execution_count": 9,
   "metadata": {},
   "outputs": [
    {
     "name": "stdout",
     "output_type": "stream",
     "text": [
      "Insert a score: 0.7\n",
      "The grade is C\n"
     ]
    }
   ],
   "source": [
    "score = float(input('Insert a score: '))\n",
    "if score>1.0:\n",
    "    print('Score out of range!')\n",
    "elif score<1.0 and score>0:\n",
    "    if score>=0.9:\n",
    "        print('The grade is A')\n",
    "    elif score>=0.8:\n",
    "        print('The grade is B')\n",
    "    elif score>=0.7:\n",
    "        print('The grade is C')\n",
    "    elif score>=0.5:\n",
    "        print('The grade is D')\n",
    "    elif score<0.5:\n",
    "        print('The grade is F')"
   ]
  },
  {
   "cell_type": "markdown",
   "metadata": {},
   "source": [
    "<h3>3.8: Grade scoring: code robustness with try-except</h3>\n",
    "\n",
    "What happens in the above code if the user misunderstands the input? For instance, lets say that the user belives the input should be in the range A-F. The user will then input a string, for example 'B', but a string such as 'B' can not be used in our code ('B' >= 0.9 does not make any sense). As a result, Python will show an error.\n",
    "\n",
    "In this assignment you will add functionality that avoids this error. The goal is to add a few words to the code such that when the user inputs something that is not a number, the code should stop and print out \"Input must be a number\". Google the use of <b>try</b> and <b>except</b> to investigate how this can be done."
   ]
  },
  {
   "cell_type": "code",
   "execution_count": 5,
   "metadata": {},
   "outputs": [
    {
     "name": "stdout",
     "output_type": "stream",
     "text": [
      "Enter the grade score: lf\n",
      "Input must be a number\n"
     ]
    }
   ],
   "source": [
    "temp = input('Enter the grade score: ')\n",
    "\n",
    "try:\n",
    "    \n",
    "    s = float(temp)\n",
    "\n",
    "    if s < 0 or s > 1:\n",
    "        print('Score out of range')\n",
    "    else:\n",
    "        if s >= 0.9:\n",
    "            print('A')\n",
    "        elif s >= 0.8:\n",
    "            print('B')\n",
    "        elif s >= 0.7:\n",
    "            print('C')\n",
    "        elif s >= 0.5:\n",
    "            print('D')\n",
    "        else:\n",
    "            print('F')      \n",
    "except:\n",
    "\n",
    "    print('Input must be a number')\n",
    "    \n"
   ]
  },
  {
   "cell_type": "markdown",
   "metadata": {},
   "source": [
    "<h3>3.9: Another look at the conditional expression</h3>\n",
    "\n",
    "There is an alternative if-statement that is very intuitive \n",
    "\n",
    "<b> expr1 if conditional_expr else expr2 </b>\n",
    "\n",
    "Example:\n",
    "- man = True\n",
    "- 'Guy' if man else 'Girl'\n",
    "\n",
    "Python checks the boolean variable man first. If man is True, then the first expression 'Guy' is printed. If man is not True, then the second expression 'Girl' is printed. Use this approach to answer the following:\n",
    "\n",
    " - Define the boolean variable raining (i.e. it can be either True or False). Print out the sentence 'Lets go to the beach' if it is not raining, and 'Lets go to the movies' if it is raining.\n",
    "\n",
    "- Define the variable age. Print out 'minor' if the age is below 21 and 'adult' otherwise."
   ]
  },
  {
   "cell_type": "code",
   "execution_count": 7,
   "metadata": {},
   "outputs": [
    {
     "name": "stdout",
     "output_type": "stream",
     "text": [
      "Lets go to the movies\n"
     ]
    }
   ],
   "source": [
    "raining = True #try with False\n",
    "temp = 'beach' if not raining else 'movies'\n",
    "print('Lets go to the', temp)"
   ]
  },
  {
   "cell_type": "markdown",
   "metadata": {},
   "source": [
    "<h3>3.10: Airlines and luggage</h3>\n",
    "\n",
    "Write a program that ask the user for name (username) and the weight of the suitcase (x). If the weigth is above 50 pounds, print the statement \n",
    "\n",
    "\"Dear username. Your luggage weighs x pounds. There is a $25 charge for luggage that heavy.\" \n",
    "\n",
    "If the weight is equal to or below 50, print the statement: \n",
    "\n",
    "\"Dear username, please proceed to gate.\""
   ]
  },
  {
   "cell_type": "code",
   "execution_count": 8,
   "metadata": {},
   "outputs": [
    {
     "name": "stdout",
     "output_type": "stream",
     "text": [
      "Enter your username: Bakh\n",
      "Enter the weight of your suitcase: 110\n",
      "Dear Bakh your luggage weighs 110 pounds. There is 25$ charge for luggage that heavy\n"
     ]
    }
   ],
   "source": [
    "username = input('Enter your username: ')\n",
    "weight = int(input('Enter the weight of your suitcase: '))\n",
    "if weight>50:\n",
    "    print(\"Dear\", username, \"your luggage weighs\", weight, \"pounds. There is 25$ charge for luggage that heavy\")\n",
    "elif weight<50:\n",
    "    print(\"Dear\", username, \"please proceed to the gate\")"
   ]
  },
  {
   "cell_type": "markdown",
   "metadata": {},
   "source": [
    "\n"
   ]
  }
 ],
 "metadata": {
  "kernelspec": {
   "display_name": "Python 3 (ipykernel)",
   "language": "python",
   "name": "python3"
  },
  "language_info": {
   "codemirror_mode": {
    "name": "ipython",
    "version": 3
   },
   "file_extension": ".py",
   "mimetype": "text/x-python",
   "name": "python",
   "nbconvert_exporter": "python",
   "pygments_lexer": "ipython3",
   "version": "3.9.12"
  }
 },
 "nbformat": 4,
 "nbformat_minor": 2
}
