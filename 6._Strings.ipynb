{
 "cells": [
  {
   "cell_type": "markdown",
   "metadata": {},
   "source": [
    "<h2>EBA3400 Exercise Set 6: Strings</h2>"
   ]
  },
  {
   "cell_type": "markdown",
   "metadata": {},
   "source": [
    "<h3>Unstructured text</h3>\n",
    "\n",
    "In this exercices set we will work with unstructured text. We will use the ideas learned in Lecture 6 to extract the meaningful information from this text. We have scraped the following information from a user profile on an online website:"
   ]
  },
  {
   "cell_type": "code",
   "execution_count": 1,
   "metadata": {},
   "outputs": [],
   "source": [
    "raw_data = '42253xxtxt/user:alfa01/first_name:Alf/last_name:Andersen/address:Nydalsveien 36/postcode:0402/e-mail:alf_andersen@gmail.com/'"
   ]
  },
  {
   "cell_type": "markdown",
   "metadata": {},
   "source": [
    "<h3>6.1: Explore the text using indexing</h3>\n",
    "\n",
    "- Which character is found at index position 0? How about index position 12? How about index position 39?\n",
    "- How many characters are there in the raw_data text?"
   ]
  },
  {
   "cell_type": "code",
   "execution_count": 2,
   "metadata": {},
   "outputs": [
    {
     "name": "stdout",
     "output_type": "stream",
     "text": [
      "The letter in index position 0 is:  4\n",
      "The letter in index position 12 is:  s\n",
      "The letter in index position 39 is:  a\n",
      "The total number of characters in raw_data are:  124\n"
     ]
    }
   ],
   "source": [
    "letter_0 = raw_data[0]\n",
    "letter_12 = raw_data[12]\n",
    "letter_39 = raw_data[39]\n",
    "length = len(raw_data)\n",
    "print('The letter in index position 0 is: ', raw_data[0])\n",
    "print('The letter in index position 12 is: ', letter_12)\n",
    "print('The letter in index position 39 is: ', letter_39)\n",
    "print('The total number of characters in raw_data are: ', length)"
   ]
  },
  {
   "cell_type": "code",
   "execution_count": 5,
   "metadata": {},
   "outputs": [
    {
     "name": "stdout",
     "output_type": "stream",
     "text": [
      "4 s a\n"
     ]
    }
   ],
   "source": [
    "#OR\n",
    "print(raw_data[0], raw_data[12], raw_data[39])\n"
   ]
  },
  {
   "cell_type": "markdown",
   "metadata": {},
   "source": [
    "<h3>6.2: Looping through the text</h3>\n",
    "\n",
    "Write a script that loops through and prints each of the 50 first characters in the raw data text."
   ]
  },
  {
   "cell_type": "code",
   "execution_count": 18,
   "metadata": {},
   "outputs": [
    {
     "name": "stdout",
     "output_type": "stream",
     "text": [
      "4\n",
      "2\n",
      "2\n",
      "5\n",
      "3\n",
      "x\n",
      "x\n",
      "t\n",
      "x\n",
      "t\n",
      "/\n",
      "u\n",
      "s\n",
      "e\n",
      "r\n",
      ":\n",
      "a\n",
      "l\n",
      "f\n",
      "a\n",
      "0\n",
      "1\n",
      "/\n",
      "f\n",
      "i\n",
      "r\n",
      "s\n",
      "t\n",
      "_\n",
      "n\n",
      "a\n",
      "m\n",
      "e\n",
      ":\n",
      "A\n",
      "l\n",
      "f\n",
      "/\n",
      "l\n",
      "a\n",
      "s\n",
      "t\n",
      "_\n",
      "n\n",
      "a\n",
      "m\n",
      "e\n",
      ":\n",
      "A\n",
      "n\n"
     ]
    }
   ],
   "source": [
    "#index = 0\n",
    "#while index == 50:\n",
    "#        char = raw_data[index]\n",
    "#       print(index)\n",
    "#        index = index + 1\n",
    "\n",
    "for letters in raw_data[0:50]:\n",
    "    print(letters)"
   ]
  },
  {
   "cell_type": "markdown",
   "metadata": {},
   "source": [
    "<h3>6.3: Slicing the raw data</h3>\n",
    "\n",
    "Which characters are found at the index range 11 to 22? How about the range 94 to 123 ?"
   ]
  },
  {
   "cell_type": "code",
   "execution_count": 20,
   "metadata": {},
   "outputs": [
    {
     "name": "stdout",
     "output_type": "stream",
     "text": [
      "user:alfa01\n",
      "e-mail:alf_andersen@gmail.com\n"
     ]
    }
   ],
   "source": [
    "print(raw_data[11:22])\n",
    "print(raw_data[94:123])"
   ]
  },
  {
   "cell_type": "markdown",
   "metadata": {},
   "source": [
    "<h3>6.4: Counting characters</h3>\n",
    "\n",
    "Write a loop that counts the number of times the character '/' is used. What does this character seem to be used for in this particular text?"
   ]
  },
  {
   "cell_type": "code",
   "execution_count": 35,
   "metadata": {},
   "outputs": [
    {
     "name": "stdout",
     "output_type": "stream",
     "text": [
      "6\n"
     ]
    }
   ],
   "source": [
    "count = 0\n",
    "for char in raw_data:\n",
    "    if char == '/':\n",
    "        count = count + 1\n",
    "print(count)"
   ]
  },
  {
   "cell_type": "markdown",
   "metadata": {},
   "source": [
    "<h3>6.5: Counting characters (as a function)</h3>\n",
    "\n",
    "Redo Exercise 6.4 as a function that takes two arguments: the first is the raw text and the second is the character to be counted. Once created, do the following\n",
    "- Verify that there are six instances of the '/' character\n",
    "- Count the number of times the characters 'a', '5' and 'z' are used\n",
    "\n",
    "Verify the results using the built-in method <b>.count()</b> that is available for text strings."
   ]
  },
  {
   "cell_type": "code",
   "execution_count": 3,
   "metadata": {},
   "outputs": [
    {
     "name": "stdout",
     "output_type": "stream",
     "text": [
      "1\n",
      "11\n",
      "0\n"
     ]
    },
    {
     "data": {
      "text/plain": [
       "7"
      ]
     },
     "execution_count": 3,
     "metadata": {},
     "output_type": "execute_result"
    }
   ],
   "source": [
    "def count(raw_data,character):\n",
    "    count = 0\n",
    "    for char in raw_data:\n",
    "        if char == character:\n",
    "            count = count + 1\n",
    "    return count \n",
    "print(count(raw_data,'5'))\n",
    "print(count(raw_data, 'a'))\n",
    "print(count(raw_data, 'z'))\n",
    "\n",
    "raw_data.count('/')"
   ]
  },
  {
   "cell_type": "code",
   "execution_count": 4,
   "metadata": {},
   "outputs": [
    {
     "name": "stdout",
     "output_type": "stream",
     "text": [
      "a : 11\n",
      "5 : 1\n",
      "z : 0\n",
      "/ : 7\n"
     ]
    }
   ],
   "source": [
    "#Can create a list to count\n",
    "\n",
    "letters_to_count = ['a','5','z','/']\n",
    "\n",
    "for letter in letters_to_count:\n",
    "    output = count(raw_data, letter)\n",
    "    print(letter,':',output)"
   ]
  },
  {
   "cell_type": "markdown",
   "metadata": {},
   "source": [
    "<h3>6.6: Find the index positions</h3>\n",
    "\n",
    "Find the following index positions using the <b>find</b> method\n",
    "- At what index position does the username start and end?\n",
    "- At what index position does the first name start and end?\n",
    "- At what index position does the last name start and end?\n",
    "- At what index position does the address start and end?\n",
    "- At what index position does the postcode start and end?\n",
    "- At what index position does the e-mail start and end?"
   ]
  },
  {
   "cell_type": "code",
   "execution_count": 2,
   "metadata": {},
   "outputs": [
    {
     "name": "stdout",
     "output_type": "stream",
     "text": [
      "Index position for username start:  16\n",
      "Index position for username end:  22 \n",
      "\n",
      "Index position for firstname start:  34\n",
      "Index position for firstname end:  37 \n",
      "\n",
      "Index position for lastname start:  48\n",
      "Index position for lastname end:  56 \n",
      "\n",
      "Index position for address start:  65\n",
      "Index position for address end:  79 \n",
      "\n",
      "Index position for postcode start:  89\n",
      "Index position for postcode end:  93 \n",
      "\n",
      "Index position for email start:  101\n",
      "Index position for email end:  123\n"
     ]
    }
   ],
   "source": [
    "username_1 = raw_data.find(':') + 1\n",
    "username_2 = raw_data.find('/', username_1) \n",
    "print('Index position for username start: ', username_1)\n",
    "print('Index position for username end: ', username_2, '\\n')\n",
    "\n",
    "firstname_1 = raw_data.find(':', username_2) + 1\n",
    "firstname_2 = raw_data.find('/', firstname_1)\n",
    "print('Index position for firstname start: ', firstname_1)\n",
    "print('Index position for firstname end: ', firstname_2, '\\n')\n",
    "\n",
    "lastname_1 = raw_data.find(':', firstname_2) + 1\n",
    "lastname_2 = raw_data.find('/', lastname_1)\n",
    "print('Index position for lastname start: ', lastname_1)\n",
    "print('Index position for lastname end: ', lastname_2, '\\n')\n",
    "\n",
    "address_1 = raw_data.find(':', lastname_2) + 1\n",
    "address_2 = raw_data.find('/', address_1)\n",
    "print('Index position for address start: ', address_1)\n",
    "print('Index position for address end: ', address_2, '\\n')\n",
    "\n",
    "postcode_1 = raw_data.find(':', address_2) + 1\n",
    "postcode_2 = raw_data.find('/', postcode_1)\n",
    "print('Index position for postcode start: ', postcode_1)\n",
    "print('Index position for postcode end: ', postcode_2, '\\n')\n",
    "\n",
    "email_1 = raw_data.find(':', postcode_2) + 1\n",
    "email_2 = raw_data.find('/', email_1)\n",
    "print('Index position for email start: ', email_1)\n",
    "print('Index position for email end: ', email_2)\n",
    "\n"
   ]
  },
  {
   "cell_type": "markdown",
   "metadata": {},
   "source": [
    "<h3>6.7: Slice based on index positions</h3>\n",
    "\n",
    "Use the index positions from Exercise 6.6 to extract username, first name, last name, address, zip code and e-mail from the raw text. Print all results using lowercase letters only. Feel free to add explaining text to the output, e.g. \"Last Name: andersen\"."
   ]
  },
  {
   "cell_type": "code",
   "execution_count": 10,
   "metadata": {},
   "outputs": [
    {
     "name": "stdout",
     "output_type": "stream",
     "text": [
      "Username:  alfa01\n",
      "Firstname:  alf\n",
      "Lastname:  andersen\n",
      "Address:  nydalsveien 36\n",
      "Postcode:  0402\n",
      "Email:  alf_andersen@gmail.com\n",
      "None\n"
     ]
    }
   ],
   "source": [
    "def user_data(raw_data):\n",
    "    lower_username = raw_data[username_1:username_2].lower()\n",
    "    lower_firstname = raw_data[firstname_1:firstname_2].lower()\n",
    "    lower_lastname = raw_data[lastname_1:lastname_2].lower()\n",
    "    lower_address = raw_data[address_1:address_2].lower()\n",
    "    lower_postcode = raw_data[postcode_1:postcode_2].lower()\n",
    "    lower_email = raw_data[email_1:email_2].lower()\n",
    "    print('Username: ', lower_username)\n",
    "    print('Firstname: ', lower_firstname)\n",
    "    print('Lastname: ', lower_lastname)\n",
    "    print('Address: ', lower_address)\n",
    "    print('Postcode: ', lower_postcode)\n",
    "    print('Email: ', lower_email)\n",
    "user = user_data (raw_data)\n",
    "print(user)"
   ]
  },
  {
   "cell_type": "markdown",
   "metadata": {},
   "source": [
    "<h3>6.8: Data extraction function</h3>\n",
    "    \n",
    "Gather the code from exercises 6.6 and 6.7 and create a function named <b>get_user_info</b> with one argument; the raw text data. Given this input, the function should print out username, first name, last name, address, zip code and e-mail. Run the function and verify that it works as intended."
   ]
  },
  {
   "cell_type": "code",
   "execution_count": 20,
   "metadata": {},
   "outputs": [
    {
     "name": "stdout",
     "output_type": "stream",
     "text": [
      "Username:  alfa01\n",
      "Firstname:  alf\n",
      "Lastname:  andersen\n",
      "Address:  nydalsveien 36\n",
      "Postcode:  0402\n",
      "Email:  alf_andersen@gmail.com\n",
      "None\n"
     ]
    }
   ],
   "source": [
    "def get_user_info(raw_data):\n",
    "    username_1 = raw_data.find(':') + 1\n",
    "    username_2 = raw_data.find('/', username_1) \n",
    "\n",
    "    firstname_1 = raw_data.find(':', username_2) + 1\n",
    "    firstname_2 = raw_data.find('/', firstname_1)\n",
    "\n",
    "    lastname_1 = raw_data.find(':', firstname_2) + 1\n",
    "    lastname_2 = raw_data.find('/', lastname_1)\n",
    "\n",
    "    address_1 = raw_data.find(':', lastname_2) + 1\n",
    "    address_2 = raw_data.find('/', address_1)\n",
    "\n",
    "    postcode_1 = raw_data.find(':', address_2) + 1\n",
    "    postcode_2 = raw_data.find('/', postcode_1)\n",
    "\n",
    "    email_1 = raw_data.find(':', postcode_2) + 1\n",
    "    email_2 = raw_data.find('/', email_1)\n",
    "    \n",
    "    lower_username = raw_data[username_1:username_2].lower()\n",
    "    lower_firstname = raw_data[firstname_1:firstname_2].lower()\n",
    "    lower_lastname = raw_data[lastname_1:lastname_2].lower()\n",
    "    lower_address = raw_data[address_1:address_2].lower()\n",
    "    lower_postcode = raw_data[postcode_1:postcode_2].lower()\n",
    "    lower_email = raw_data[email_1:email_2].lower()\n",
    "    \n",
    "    print('Username: ', lower_username)\n",
    "    print('Firstname: ', lower_firstname)\n",
    "    print('Lastname: ', lower_lastname)\n",
    "    print('Address: ', lower_address)\n",
    "    print('Postcode: ', lower_postcode)\n",
    "    print('Email: ', lower_email)\n",
    "\n",
    "data = get_user_info(raw_data)\n",
    "print(data)"
   ]
  },
  {
   "cell_type": "markdown",
   "metadata": {},
   "source": [
    "<h3>6.9: Applying our function</h3>\n",
    "    \n",
    "We are given new user information"
   ]
  },
  {
   "cell_type": "code",
   "execution_count": 15,
   "metadata": {},
   "outputs": [],
   "source": [
    "usr_txt1 = '42253xxtx43t5/user:heidi89/first_name:Heidi/last_name:Hansen/address:Sandnesveien 16/postcode:0303/e-mail:heiha@bi.com'\n",
    "usr_txt2 = '4525300x6xt/user:Max/first_name:Mats/last_name:Kallum/address:Nydalen 29/postcode:0401/e-mail:maks33@mac.com'\n",
    "usr_txt3 = '4442353xx7xt/user:hasgaard/first_name:Henrik/last_name:Aasgaard/address:Collets gate 334/postcode:0105/e-mail:ninja_n00b@gmail.com'"
   ]
  },
  {
   "cell_type": "markdown",
   "metadata": {},
   "source": [
    "Use the function that you built in Exercise 6.8 to extract the user information from this data."
   ]
  },
  {
   "cell_type": "code",
   "execution_count": 23,
   "metadata": {},
   "outputs": [
    {
     "name": "stdout",
     "output_type": "stream",
     "text": [
      "Username:  heidi89\n",
      "Firstname:  heidi\n",
      "Lastname:  hansen\n",
      "Address:  sandnesveien 16\n",
      "Postcode:  0303\n",
      "Email:  heiha@bi.co\n"
     ]
    }
   ],
   "source": [
    "get_user_info(usr_txt1)"
   ]
  },
  {
   "cell_type": "markdown",
   "metadata": {},
   "source": [
    "<h3>6.10: Converting text to value</h3>\n",
    "\n",
    "Take the following string:"
   ]
  },
  {
   "cell_type": "code",
   "execution_count": 94,
   "metadata": {},
   "outputs": [],
   "source": [
    "txtstr = 'X-DSPAM-Confidence:0.8475'"
   ]
  },
  {
   "cell_type": "markdown",
   "metadata": {},
   "source": [
    "Use find and string slicing to extract the portion of the string after the colon character and then use the float function to convert the extracted string into a floating point number."
   ]
  },
  {
   "cell_type": "code",
   "execution_count": 97,
   "metadata": {},
   "outputs": [
    {
     "name": "stdout",
     "output_type": "stream",
     "text": [
      "0.8475\n"
     ]
    }
   ],
   "source": [
    "print(float(txtstr[19:]))"
   ]
  }
 ],
 "metadata": {
  "kernelspec": {
   "display_name": "Python 3 (ipykernel)",
   "language": "python",
   "name": "python3"
  },
  "language_info": {
   "codemirror_mode": {
    "name": "ipython",
    "version": 3
   },
   "file_extension": ".py",
   "mimetype": "text/x-python",
   "name": "python",
   "nbconvert_exporter": "python",
   "pygments_lexer": "ipython3",
   "version": "3.9.12"
  }
 },
 "nbformat": 4,
 "nbformat_minor": 2
}
