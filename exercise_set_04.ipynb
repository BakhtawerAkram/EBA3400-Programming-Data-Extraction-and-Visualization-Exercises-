{
 "cells": [
  {
   "cell_type": "markdown",
   "metadata": {},
   "source": [
    "<h2>EBA3400 Exercise Set 4: Functions</h2>"
   ]
  },
  {
   "cell_type": "markdown",
   "metadata": {},
   "source": [
    "<h3>4.1: The \"def\" keyword</h3>\n",
    "\n",
    "What is the purpose of the \"def\" keyword in Python?\n",
    "\n",
    "- a) It is used to define a variable\n",
    "- b) It indicates the start of a function\n",
    "- c) It indicates that the following indented section of code is to be stored for later\n",
    "- d) b and c are both true\n",
    "- e) None of the above\n",
    "\n",
    "D"
   ]
  },
  {
   "cell_type": "markdown",
   "metadata": {},
   "source": [
    "<h3>4.2: Parameter vs argument</h3>\n",
    "\n",
    "What is the difference between a parameter and an argument? Write a short code example to illustrate."
   ]
  },
  {
   "cell_type": "code",
   "execution_count": 2,
   "metadata": {},
   "outputs": [
    {
     "data": {
      "text/plain": [
       "1205.76"
      ]
     },
     "execution_count": 2,
     "metadata": {},
     "output_type": "execute_result"
    }
   ],
   "source": [
    "def prod_power(area,speed): #x and y are the parameters\n",
    "    power = 1/2000 * area * 0.48 * (speed**3)\n",
    "    return power\n",
    "\n",
    "arg1 = 5024 #arg1 and arg2 are variables and arguments for the function\n",
    "arg2 = 10\n",
    "\n",
    "prod_power(arg1,arg2) #there are 2 arguments in the function now \n"
   ]
  },
  {
   "cell_type": "markdown",
   "metadata": {},
   "source": [
    "<h3>4.3: Flow of execution</h3> \n",
    "    \n",
    "Consider the following code:\n",
    "    \n",
    "def fred(): print(\"Zap\")\n",
    "\n",
    "def jane(): print(\"ABC\")\n",
    "\n",
    "jane() <br>\n",
    "fred() <br>\n",
    "jane()    \n",
    "    \n",
    "What will the program above print out?\n",
    "\n",
    "- a) Zap ABC jane fred jane\n",
    "- b) Zap ABC Zap\n",
    "- c) ABC Zap jane\n",
    "- d) ABC Zap ABC\n",
    "- e) Zap Zap Zap\n",
    "\n",
    "D\n",
    "\n",
    "Verify your answer by writing the code directly in the notebook and test the output."
   ]
  },
  {
   "cell_type": "code",
   "execution_count": 1,
   "metadata": {},
   "outputs": [
    {
     "name": "stdout",
     "output_type": "stream",
     "text": [
      "ABC\n",
      "Zap\n",
      "Paz\n",
      "ABC\n"
     ]
    }
   ],
   "source": [
    "def fred():\n",
    "    print('Zap')\n",
    "    print('Paz')\n",
    "def jane():\n",
    "    print('ABC')\n",
    "    \n",
    "jane()\n",
    "fred()\n",
    "jane()"
   ]
  },
  {
   "cell_type": "markdown",
   "metadata": {},
   "source": [
    "<h3>4.4: Test a range 1</h3> \n",
    "    \n",
    "Create a function named <b>test_range</b> that takes one argument <b>n</b>. If <b>n</b> is in the range 3 to 9, the function should print out \"The number is inside the given range\", if not, the function should print \"The number is outside the given range\".\n",
    "\n",
    "Tip: <b>range(a,b)</b> can be used to define the range from a to b in Python."
   ]
  },
  {
   "cell_type": "code",
   "execution_count": 5,
   "metadata": {},
   "outputs": [
    {
     "name": "stdout",
     "output_type": "stream",
     "text": [
      "The number is inside the given range\n"
     ]
    }
   ],
   "source": [
    "def test_range(n):\n",
    "    if n in range(3,9):\n",
    "        print('The number is inside the given range')\n",
    "    else:\n",
    "        print('The number is outside the given range')\n",
    "        \n",
    "test_range(8)"
   ]
  },
  {
   "cell_type": "markdown",
   "metadata": {},
   "source": [
    "<h3>4.5 Test a range 2</h3> \n",
    "    \n",
    "Redo Exercise 4.4, but change it so that the range 3 to 9 no longer is fixed inside the function, but can be specified using two additional arguments as input to the function."
   ]
  },
  {
   "cell_type": "code",
   "execution_count": 22,
   "metadata": {},
   "outputs": [
    {
     "name": "stdout",
     "output_type": "stream",
     "text": [
      "Enter the minimum number in range: 8\n",
      "Enter the maximun number in range: 10\n",
      "Enter a number to see if it is in your given range: 9\n",
      "The number is inside the given range\n"
     ]
    }
   ],
   "source": [
    "def test_range(a,b,c):\n",
    "    if a in range(b,c):\n",
    "        print('The number is inside the given range')\n",
    "    else:\n",
    "        print('The number is outside the given range')\n",
    "\n",
    "b = int(input('Enter the minimum number in range: '))\n",
    "c = int(input('Enter the maximun number in range: '))\n",
    "a = int(input('Enter a number to see if it is in your given range: '))\n",
    "       \n",
    "test_range(a,b,c)\n"
   ]
  },
  {
   "cell_type": "markdown",
   "metadata": {},
   "source": [
    "<h3>4.6: Pay with overtime (as a function)</h3> \n",
    "    \n",
    "Revisit Exercise 3.5 and create a function called compute_pay which takes two parameters (hours and rate)."
   ]
  },
  {
   "cell_type": "code",
   "execution_count": 2,
   "metadata": {},
   "outputs": [
    {
     "name": "stdout",
     "output_type": "stream",
     "text": [
      "Enter hours: 60\n",
      "Enter rate: 110\n",
      "Pay: 6600.0\n",
      "As your working hours are above 40, the hourly rate is multiplied by 1.5 and your pay for the extra hours is:  3300.0\n",
      "And your total pay with overtime is:  9900.0\n"
     ]
    }
   ],
   "source": [
    "def pay_overtime(hours,rate):\n",
    "    if hours>40:\n",
    "        above_40 = hours - 40\n",
    "        extra_rate = rate*1.5\n",
    "        pay_overtime = above_40*extra_rate\n",
    "        print('As your working hours are above 40, the hourly rate is multiplied by 1.5 and your pay for the extra hours is: ',pay_overtime)\n",
    "        print('And your total pay with overtime is: ', pay+pay_overtime)\n",
    "    \n",
    "temp = input('Enter hours: ')\n",
    "hours = float(temp)\n",
    "temp = input('Enter rate: ')\n",
    "rate = float(temp)\n",
    "\n",
    "pay = hours*rate\n",
    "print('Pay:',pay)\n",
    "\n",
    "pay_overtime(hours,rate)"
   ]
  },
  {
   "cell_type": "markdown",
   "metadata": {},
   "source": [
    "<h3>4.7: Grade scoring (as a function)</h3> \n",
    "    \n",
    "Revisit Exercise 3.8 and create a function called compute_grade which takes a score as its parameter and returns a grade as a string. Make sure that the function is able to return a value in all the different cases defined in Exercise 3.8.\n",
    "\n",
    "Run the program repeatedly to test the various different values for input."
   ]
  },
  {
   "cell_type": "code",
   "execution_count": 3,
   "metadata": {},
   "outputs": [
    {
     "name": "stdout",
     "output_type": "stream",
     "text": [
      "Insert a score: 0.6\n",
      "The grade is D\n"
     ]
    }
   ],
   "source": [
    "def compute_grade(score):\n",
    "    \n",
    "    #try:\n",
    "    \n",
    "    if score>1.0:\n",
    "        return('Score out of range!')\n",
    "    elif score<1.0 and score>0:\n",
    "        if score>=0.9:\n",
    "            return('The grade is A')\n",
    "        elif score>=0.8:\n",
    "            return('The grade is B')\n",
    "        elif score>=0.7:\n",
    "            return('The grade is C')\n",
    "        elif score>=0.5:\n",
    "            return('The grade is D')\n",
    "        elif score<0.5:\n",
    "            return('The grade is F')\n",
    "        \n",
    "    #except:\n",
    "        #return 'Input must be a number'\n",
    "        \n",
    "score = float(input('Insert a score: '))\n",
    "compute_grade(score)"
   ]
  },
  {
   "cell_type": "markdown",
   "metadata": {},
   "source": [
    "<h3>4.8: The Max of Two</h3> \n",
    "    \n",
    "Create a function named <b>max_of_two</b> that takes two parameters <b>x</b> and <b>y</b>. If the first parameter is larger than the second, it should return the first parameter. If not, it should return the second parameter."
   ]
  },
  {
   "cell_type": "code",
   "execution_count": 3,
   "metadata": {},
   "outputs": [
    {
     "name": "stdout",
     "output_type": "stream",
     "text": [
      "Enter the first number: 1\n",
      "Enter the second number: 10\n",
      "The max of these two numbers is: \n"
     ]
    },
    {
     "data": {
      "text/plain": [
       "10"
      ]
     },
     "execution_count": 3,
     "metadata": {},
     "output_type": "execute_result"
    }
   ],
   "source": [
    "def max_of_two(x,y):\n",
    "    if x>y:\n",
    "        return x\n",
    "    elif x<y:\n",
    "        return y \n",
    "\n",
    "x = int(input('Enter the first number: '))\n",
    "y = int(input('Enter the second number: '))\n",
    "print('The max of these two numbers is: ')\n",
    "    \n",
    "max_of_two(x,y)"
   ]
  },
  {
   "cell_type": "markdown",
   "metadata": {},
   "source": [
    "<h3>4.9: The Max of Three</h3> \n",
    "    \n",
    "Create a function named <b>max_of_three</b> that takes three parameters <b>x</b>, <b>y</b> and <b>z</b>. The function should return the largest of these three parameters. Either create it using if-statements or by making use of the <b>max_of_two</b> function defined in Exercise 4.5."
   ]
  },
  {
   "cell_type": "code",
   "execution_count": 4,
   "metadata": {},
   "outputs": [
    {
     "name": "stdout",
     "output_type": "stream",
     "text": [
      "Enter the third number: 20\n",
      "The max of these three numbers is: \n"
     ]
    },
    {
     "data": {
      "text/plain": [
       "20"
      ]
     },
     "execution_count": 4,
     "metadata": {},
     "output_type": "execute_result"
    }
   ],
   "source": [
    "def max_of_three(x,y,z):\n",
    "    largest_of_xy = max_of_two(x,y)\n",
    "    largest = max_of_two(largest_of_xy,z)\n",
    "    return largest\n",
    "    \n",
    "z = int(input('Enter the third number: '))\n",
    "print('The max of these three numbers is: ')\n",
    "\n",
    "max_of_three(x,y,z)"
   ]
  },
  {
   "cell_type": "markdown",
   "metadata": {},
   "source": [
    "<h3>4.10: Speed limits</h3>\n",
    "\n",
    "Write a function for checking the speed of drivers. This function should have one parameter: <b>speed</b>. The following should be printed from the function\n",
    "\n",
    "- If speed is less than 70, it should print “OK”.\n",
    "- Otherwise, for every 5km above the speed limit (70), it should give the driver one penalty point and print the total number of penalty points. For example, if the speed is 80, it should print: “Points: 2”.\n",
    "- If the driver gets more than 12 points, the function should print: “License suspended”"
   ]
  },
  {
   "cell_type": "code",
   "execution_count": 5,
   "metadata": {},
   "outputs": [
    {
     "name": "stdout",
     "output_type": "stream",
     "text": [
      "Points:  1\n"
     ]
    }
   ],
   "source": [
    "def check_speed(speed):\n",
    "    limit = 70\n",
    "    points = (speed-limit)//5\n",
    "        \n",
    "    if speed <= limit:\n",
    "        print('OK')\n",
    "    elif points <= 12:\n",
    "        print('Points: ',points)\n",
    "    else:\n",
    "        print('License suspended')\n",
    "\n",
    "check_speed(75)"
   ]
  }
 ],
 "metadata": {
  "kernelspec": {
   "display_name": "Python 3 (ipykernel)",
   "language": "python",
   "name": "python3"
  },
  "language_info": {
   "codemirror_mode": {
    "name": "ipython",
    "version": 3
   },
   "file_extension": ".py",
   "mimetype": "text/x-python",
   "name": "python",
   "nbconvert_exporter": "python",
   "pygments_lexer": "ipython3",
   "version": "3.9.12"
  }
 },
 "nbformat": 4,
 "nbformat_minor": 2
}
