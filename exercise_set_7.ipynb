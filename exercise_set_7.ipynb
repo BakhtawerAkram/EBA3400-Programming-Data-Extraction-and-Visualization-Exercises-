{
 "cells": [
  {
   "cell_type": "markdown",
   "metadata": {},
   "source": [
    "<h2>EBA3400 Exercise Set 7: Lists</h2>"
   ]
  },
  {
   "cell_type": "markdown",
   "metadata": {},
   "source": [
    "<h3>7.1 Operating on lists</h3>\n",
    "\n",
    "Consider the following list of countries"
   ]
  },
  {
   "cell_type": "code",
   "execution_count": 10,
   "metadata": {},
   "outputs": [],
   "source": [
    "my_list = ['Spain',['Afghanistan', 'Albania', 'Algeria', 'Andorra'], ['Norway','Nigeria','Nepal']]"
   ]
  },
  {
   "cell_type": "markdown",
   "metadata": {},
   "source": [
    "Perform the following tasks on my_list\n",
    "- What is the length of the list? Explain why\n",
    "- Change 'Spain' to 'Sweden'\n",
    "- Change Norway to Niger\n",
    "- Delete the second element of the list\n",
    "- Append 'Brasil' to the list\n",
    "- Create a for loop that prints out each of the elements in my_list three times"
   ]
  },
  {
   "cell_type": "code",
   "execution_count": 35,
   "metadata": {},
   "outputs": [
    {
     "name": "stdout",
     "output_type": "stream",
     "text": [
      "The length of the list is: 3\n"
     ]
    }
   ],
   "source": [
    "print('The length of the list is:', len(my_list)) #integrated lists count as one whole element in the list"
   ]
  },
  {
   "cell_type": "code",
   "execution_count": 36,
   "metadata": {},
   "outputs": [
    {
     "data": {
      "text/plain": [
       "['Sweden',\n",
       " ['Afghanistan', 'Albania', 'Algeria', 'Andorra'],\n",
       " ['Norway', 'Nigeria', 'Nepal']]"
      ]
     },
     "execution_count": 36,
     "metadata": {},
     "output_type": "execute_result"
    }
   ],
   "source": [
    "my_list[0] = 'Sweden'\n",
    "my_list"
   ]
  },
  {
   "cell_type": "code",
   "execution_count": 37,
   "metadata": {},
   "outputs": [
    {
     "data": {
      "text/plain": [
       "['Sweden',\n",
       " ['Afghanistan', 'Albania', 'Algeria', 'Andorra'],\n",
       " ['Niger', 'Nigeria', 'Nepal']]"
      ]
     },
     "execution_count": 37,
     "metadata": {},
     "output_type": "execute_result"
    }
   ],
   "source": [
    "my_list[2][0] = 'Niger'\n",
    "my_list"
   ]
  },
  {
   "cell_type": "code",
   "execution_count": 38,
   "metadata": {},
   "outputs": [
    {
     "data": {
      "text/plain": [
       "['Sweden', ['Niger', 'Nigeria', 'Nepal']]"
      ]
     },
     "execution_count": 38,
     "metadata": {},
     "output_type": "execute_result"
    }
   ],
   "source": [
    "del my_list[1]\n",
    "my_list"
   ]
  },
  {
   "cell_type": "code",
   "execution_count": 39,
   "metadata": {},
   "outputs": [
    {
     "data": {
      "text/plain": [
       "['Sweden', ['Niger', 'Nigeria', 'Nepal'], 'Brasil']"
      ]
     },
     "execution_count": 39,
     "metadata": {},
     "output_type": "execute_result"
    }
   ],
   "source": [
    "my_list.append('Brasil')\n",
    "my_list"
   ]
  },
  {
   "cell_type": "code",
   "execution_count": 40,
   "metadata": {},
   "outputs": [
    {
     "name": "stdout",
     "output_type": "stream",
     "text": [
      "['Sweden', 'Sweden', 'Sweden']\n",
      "[['Niger', 'Nigeria', 'Nepal'], ['Niger', 'Nigeria', 'Nepal'], ['Niger', 'Nigeria', 'Nepal']]\n",
      "['Brasil', 'Brasil', 'Brasil']\n"
     ]
    }
   ],
   "source": [
    "for element in my_list:\n",
    "    print([element] * 3)"
   ]
  },
  {
   "cell_type": "markdown",
   "metadata": {},
   "source": [
    "<h3>7.2 Countries and Population</h3>\n",
    "\n",
    "Consider the following following data on country population"
   ]
  },
  {
   "cell_type": "code",
   "execution_count": 2,
   "metadata": {},
   "outputs": [],
   "source": [
    "countries = 'Afghanistan Albania Algeria Andorra Angola Antigua Argentina Armenia Australia Austria Azerbaijan'\n",
    "population = '37209007 2938428 42679018 missing 31787566 104084 45101781 2936706 25088636 8766201 10014575'"
   ]
  },
  {
   "cell_type": "markdown",
   "metadata": {},
   "source": [
    "- Create lists of both the country variable and the population variable\n",
    "- There is a missing value for the population in Andorra. Change it to '77072'.\n",
    "- Convert the population variable to numerical (floating) values\n",
    "- Which country is found at index position 6? What is the population of this country?\n",
    "- How many countries are represented in the data?\n",
    "- What is the average population?\n",
    "- What is the largest and smallest population?\n",
    "\n",
    "Answer all the above using built-in Python functions."
   ]
  },
  {
   "cell_type": "code",
   "execution_count": 3,
   "metadata": {
    "scrolled": true
   },
   "outputs": [
    {
     "name": "stdout",
     "output_type": "stream",
     "text": [
      "['Afghanistan', 'Albania', 'Algeria', 'Andorra', 'Angola', 'Antigua', 'Argentina', 'Armenia', 'Australia', 'Austria', 'Azerbaijan']\n",
      "[37209007.0, 2938428.0, 42679018.0, 77072.0, 31787566.0, 104084.0, 45101781.0, 2936706.0, 25088636.0, 8766201.0, 10014575.0]\n",
      "The country on the index position 6 is: Argentina , And its population is: 45101781.0\n",
      "The number of countires represented in the data is:  11\n",
      "The average population is: 18791188.545454547\n",
      "The largest population is:  45101781.0 , And the smallest population is:  77072.0\n"
     ]
    }
   ],
   "source": [
    "count = countries.split()\n",
    "popu = population.split()\n",
    "popu[3] = 77072\n",
    "for i in range(0,len(popu)):\n",
    "    popu[i] = float(popu[i]) \n",
    "\n",
    "print(count)\n",
    "print(popu)\n",
    "print('The country on the index position 6 is:', count[6], ', And its population is:', popu[6])\n",
    "print('The number of countires represented in the data is: ', len(count))\n",
    "print('The average population is:',sum(popu)/len(popu))\n",
    "print('The largest population is: ', max(popu), ', And the smallest population is: ', min(popu))"
   ]
  },
  {
   "cell_type": "markdown",
   "metadata": {},
   "source": [
    "<h3>7.3 Delete function</h3>\n",
    "\n",
    "Write a function that always deletes the first two elements of a list. Apply the function to the lists in Exercise 7.1 and 7.2 to verify that it works."
   ]
  },
  {
   "cell_type": "code",
   "execution_count": 53,
   "metadata": {},
   "outputs": [],
   "source": [
    "def del_2(list_name):\n",
    "    del list_name[:2]"
   ]
  },
  {
   "cell_type": "code",
   "execution_count": 54,
   "metadata": {},
   "outputs": [
    {
     "data": {
      "text/plain": [
       "[['Norway', 'Nigeria', 'Nepal']]"
      ]
     },
     "execution_count": 54,
     "metadata": {},
     "output_type": "execute_result"
    }
   ],
   "source": [
    "del_2(my_list)\n",
    "my_list"
   ]
  },
  {
   "cell_type": "code",
   "execution_count": 55,
   "metadata": {},
   "outputs": [
    {
     "data": {
      "text/plain": [
       "['Angola',\n",
       " 'Antigua',\n",
       " 'Argentina',\n",
       " 'Armenia',\n",
       " 'Australia',\n",
       " 'Austria',\n",
       " 'Azerbaijan']"
      ]
     },
     "execution_count": 55,
     "metadata": {},
     "output_type": "execute_result"
    }
   ],
   "source": [
    "del_2(count)\n",
    "count"
   ]
  },
  {
   "cell_type": "code",
   "execution_count": 56,
   "metadata": {},
   "outputs": [
    {
     "data": {
      "text/plain": [
       "[42679018.0,\n",
       " 77072.0,\n",
       " 31787566.0,\n",
       " 104084.0,\n",
       " 45101781.0,\n",
       " 2936706.0,\n",
       " 25088636.0,\n",
       " 8766201.0,\n",
       " 10014575.0]"
      ]
     },
     "execution_count": 56,
     "metadata": {},
     "output_type": "execute_result"
    }
   ],
   "source": [
    "del_2(popu)\n",
    "popu"
   ]
  },
  {
   "cell_type": "markdown",
   "metadata": {},
   "source": [
    "<h3>7.4 Chop function</h3>\n",
    "\n",
    "Write a function called chop that takes a list and modifies it, removing the first and last elements. Verify using the country list in Exercise 7.2."
   ]
  },
  {
   "cell_type": "code",
   "execution_count": 8,
   "metadata": {},
   "outputs": [],
   "source": [
    "def chop(list_name):\n",
    "    for element in list_name:\n",
    "        list_name.pop(0)\n",
    "        list_name.pop(-1)"
   ]
  },
  {
   "cell_type": "code",
   "execution_count": 14,
   "metadata": {},
   "outputs": [
    {
     "data": {
      "text/plain": [
       "['Albania',\n",
       " 'Algeria',\n",
       " 'Andorra',\n",
       " 'Angola',\n",
       " 'Antigua',\n",
       " 'Argentina',\n",
       " 'Armenia',\n",
       " 'Australia',\n",
       " 'Austria']"
      ]
     },
     "execution_count": 14,
     "metadata": {},
     "output_type": "execute_result"
    }
   ],
   "source": [
    "chop(count)\n",
    "count"
   ]
  },
  {
   "cell_type": "code",
   "execution_count": 15,
   "metadata": {},
   "outputs": [
    {
     "data": {
      "text/plain": [
       "['Algeria',\n",
       " 'Andorra',\n",
       " 'Angola',\n",
       " 'Antigua',\n",
       " 'Argentina',\n",
       " 'Armenia',\n",
       " 'Australia']"
      ]
     },
     "execution_count": 15,
     "metadata": {},
     "output_type": "execute_result"
    }
   ],
   "source": [
    "# OR\n",
    "def chop(x):\n",
    "    x.pop(0)\n",
    "    x.pop(-1)\n",
    "chop(count)\n",
    "count"
   ]
  },
  {
   "cell_type": "markdown",
   "metadata": {},
   "source": [
    "<h3>7.5 Strip function</h3>\n",
    "\n",
    "Given the unstructured list of countries"
   ]
  },
  {
   "cell_type": "code",
   "execution_count": 2,
   "metadata": {},
   "outputs": [],
   "source": [
    "list_countries_unstructured = ['    NoRWAy', '    SwedEN     ', 'DenmaRK', ' IcELAND', '         FINLAND']"
   ]
  },
  {
   "cell_type": "markdown",
   "metadata": {},
   "source": [
    "Create a function that returns tidy data, with an uppercase initial letter (e.g. Norway) and no uneccessary spaces."
   ]
  },
  {
   "cell_type": "code",
   "execution_count": 5,
   "metadata": {},
   "outputs": [
    {
     "data": {
      "text/plain": [
       "['Norway', 'Sweden', 'Denmark', 'Iceland', 'Finland']"
      ]
     },
     "execution_count": 5,
     "metadata": {},
     "output_type": "execute_result"
    }
   ],
   "source": [
    "def tidy(list_name):\n",
    "    for i in range(len(list_name)):\n",
    "        list_name[i] = list_name[i].strip()\n",
    "        list_name[i] = list_name[i].capitalize()\n",
    "    return(list_name)\n",
    "    \n",
    "tidy(list_countries_unstructured)"
   ]
  },
  {
   "cell_type": "markdown",
   "metadata": {},
   "source": [
    "<h3>7.6 Counting the unique words in a paragraph</h3>\n",
    "\n",
    "Consider the following paragraph from Romeo and Juliet"
   ]
  },
  {
   "cell_type": "code",
   "execution_count": 17,
   "metadata": {},
   "outputs": [],
   "source": [
    "romeo_text = 'But soft what light through yonder window breaks It is the east and Juliet is the sun Arise fair sun and kill the envious moon Who is already sick and pale with grief'"
   ]
  },
  {
   "cell_type": "markdown",
   "metadata": {},
   "source": [
    "Perform the following tasks\n",
    "- Make all words lowercase\n",
    "- Split the text into a list of words using the split function\n",
    "- For each word, check to see if the word is already in a list of unique words. If the word is not in the list, add it to the list. \n",
    "- Sort and print the resulting words in alphabetical order.\n",
    "- How many words are there in the full paragraph? How many of those words are unique?"
   ]
  },
  {
   "cell_type": "code",
   "execution_count": 19,
   "metadata": {},
   "outputs": [
    {
     "data": {
      "text/plain": [
       "'but soft what light through yonder window breaks it is the east and juliet is the sun arise fair sun and kill the envious moon who is already sick and pale with grief'"
      ]
     },
     "execution_count": 19,
     "metadata": {},
     "output_type": "execute_result"
    }
   ],
   "source": [
    "romeo = romeo_text.lower()\n",
    "romeo"
   ]
  },
  {
   "cell_type": "code",
   "execution_count": 20,
   "metadata": {},
   "outputs": [
    {
     "data": {
      "text/plain": [
       "['But',\n",
       " 'soft',\n",
       " 'what',\n",
       " 'light',\n",
       " 'through',\n",
       " 'yonder',\n",
       " 'window',\n",
       " 'breaks',\n",
       " 'It',\n",
       " 'is',\n",
       " 'the',\n",
       " 'east',\n",
       " 'and',\n",
       " 'Juliet',\n",
       " 'is',\n",
       " 'the',\n",
       " 'sun',\n",
       " 'Arise',\n",
       " 'fair',\n",
       " 'sun',\n",
       " 'and',\n",
       " 'kill',\n",
       " 'the',\n",
       " 'envious',\n",
       " 'moon',\n",
       " 'Who',\n",
       " 'is',\n",
       " 'already',\n",
       " 'sick',\n",
       " 'and',\n",
       " 'pale',\n",
       " 'with',\n",
       " 'grief']"
      ]
     },
     "execution_count": 20,
     "metadata": {},
     "output_type": "execute_result"
    }
   ],
   "source": [
    "romeo_list = romeo_text.split()\n",
    "romeo_list"
   ]
  },
  {
   "cell_type": "code",
   "execution_count": 21,
   "metadata": {},
   "outputs": [
    {
     "data": {
      "text/plain": [
       "['But',\n",
       " 'soft',\n",
       " 'what',\n",
       " 'light',\n",
       " 'through',\n",
       " 'yonder',\n",
       " 'window',\n",
       " 'breaks',\n",
       " 'It',\n",
       " 'is',\n",
       " 'the',\n",
       " 'east',\n",
       " 'and',\n",
       " 'Juliet',\n",
       " 'sun',\n",
       " 'Arise',\n",
       " 'fair',\n",
       " 'kill',\n",
       " 'envious',\n",
       " 'moon',\n",
       " 'Who',\n",
       " 'already',\n",
       " 'sick',\n",
       " 'pale',\n",
       " 'with',\n",
       " 'grief']"
      ]
     },
     "execution_count": 21,
     "metadata": {},
     "output_type": "execute_result"
    }
   ],
   "source": [
    "unique = []\n",
    "for word in romeo_list:\n",
    "    if word not in unique:\n",
    "        unique.append(word)\n",
    "unique"
   ]
  },
  {
   "cell_type": "code",
   "execution_count": 22,
   "metadata": {},
   "outputs": [
    {
     "data": {
      "text/plain": [
       "['Arise',\n",
       " 'But',\n",
       " 'It',\n",
       " 'Juliet',\n",
       " 'Who',\n",
       " 'already',\n",
       " 'and',\n",
       " 'breaks',\n",
       " 'east',\n",
       " 'envious',\n",
       " 'fair',\n",
       " 'grief',\n",
       " 'is',\n",
       " 'kill',\n",
       " 'light',\n",
       " 'moon',\n",
       " 'pale',\n",
       " 'sick',\n",
       " 'soft',\n",
       " 'sun',\n",
       " 'the',\n",
       " 'through',\n",
       " 'what',\n",
       " 'window',\n",
       " 'with',\n",
       " 'yonder']"
      ]
     },
     "execution_count": 22,
     "metadata": {},
     "output_type": "execute_result"
    }
   ],
   "source": [
    "unique.sort()\n",
    "unique"
   ]
  },
  {
   "cell_type": "code",
   "execution_count": 23,
   "metadata": {},
   "outputs": [
    {
     "name": "stdout",
     "output_type": "stream",
     "text": [
      "Total number of words:  33\n",
      "Unique words:  26\n"
     ]
    }
   ],
   "source": [
    "print('Total number of words: ', len(romeo_list))\n",
    "print('Unique words: ', len(unique))"
   ]
  }
 ],
 "metadata": {
  "kernelspec": {
   "display_name": "Python 3 (ipykernel)",
   "language": "python",
   "name": "python3"
  },
  "language_info": {
   "codemirror_mode": {
    "name": "ipython",
    "version": 3
   },
   "file_extension": ".py",
   "mimetype": "text/x-python",
   "name": "python",
   "nbconvert_exporter": "python",
   "pygments_lexer": "ipython3",
   "version": "3.9.12"
  }
 },
 "nbformat": 4,
 "nbformat_minor": 2
}
